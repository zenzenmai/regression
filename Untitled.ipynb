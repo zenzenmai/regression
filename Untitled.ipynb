{
 "cells": [
  {
   "cell_type": "code",
   "execution_count": 5,
   "id": "fafc4d31",
   "metadata": {},
   "outputs": [
    {
     "name": "stdout",
     "output_type": "stream",
     "text": [
      "hello world\n"
     ]
    }
   ],
   "source": [
    "print(\"hello world\")"
   ]
  },
  {
   "cell_type": "code",
   "execution_count": 7,
   "id": "e956d680",
   "metadata": {},
   "outputs": [
    {
     "name": "stdout",
     "output_type": "stream",
     "text": [
      "num=10,type(num)=<class 'int'>\n",
      "string=Hello World!,type(string)=<class 'str'>\n"
     ]
    }
   ],
   "source": [
    "num = 10\n",
    "string = \"Hello World!\"\n",
    "print(f\"num={num},type(num)={type(num)}\")\n",
    "print(f\"string={string},type(string)={type(string)}\")"
   ]
  },
  {
   "cell_type": "code",
   "execution_count": 8,
   "id": "c03c6068",
   "metadata": {},
   "outputs": [
    {
     "name": "stdout",
     "output_type": "stream",
     "text": [
      "小数第2位:10.57,小数5位:10.56780,小数2位の指数表記:1.06e+01\n"
     ]
    }
   ],
   "source": [
    "num = 10.5678\n",
    "print(f\"小数第2位:{num:.2f},小数5位:{num:.5f},小数2位の指数表記:{num:.2e}\")"
   ]
  }
 ],
 "metadata": {
  "kernelspec": {
   "display_name": "Python 3 (ipykernel)",
   "language": "python",
   "name": "python3"
  },
  "language_info": {
   "codemirror_mode": {
    "name": "ipython",
    "version": 3
   },
   "file_extension": ".py",
   "mimetype": "text/x-python",
   "name": "python",
   "nbconvert_exporter": "python",
   "pygments_lexer": "ipython3",
   "version": "3.9.5"
  }
 },
 "nbformat": 4,
 "nbformat_minor": 5
}
